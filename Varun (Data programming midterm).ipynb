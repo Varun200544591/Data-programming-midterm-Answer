{
 "cells": [
  {
   "cell_type": "markdown",
   "id": "de5008f2",
   "metadata": {},
   "source": [
    " ## Que 21)\n",
    "\n",
    "#### _int()_: Constructor that takes as input a pair of Point objects that represent the ends points of the line segment\n",
    "\n",
    "#### Length():: returns the length if the segment \n",
    "\n",
    "#### Slope() returns the slope of the segment of none if the slope is unbounded "
   ]
  },
  {
   "cell_type": "code",
   "execution_count": 18,
   "id": "c5e7a56d",
   "metadata": {},
   "outputs": [],
   "source": [
    "class Point:\n",
    "    def __init__(self, x_coord=0, y_coord=0):\n",
    "        self.x_coord = x_coord\n",
    "        self.y_coord = y_coord"
   ]
  },
  {
   "cell_type": "code",
   "execution_count": 19,
   "id": "f219f9fb",
   "metadata": {},
   "outputs": [],
   "source": [
    "class Segment:\n",
    "    def __init__(self, start_point, end_point):\n",
    "        self.start_point = start_point\n",
    "        self.end_point = end_point\n",
    "    \n",
    "    def calculate_length(self):\n",
    "        length = ((self.end_point.x_coord - self.start_point.x_coord)**2 + \n",
    "                  (self.end_point.y_coord - self.start_point.y_coord)**2)**0.5\n",
    "        return length\n",
    "    \n",
    "    def calculate_slope(self):\n",
    "        if self.end_point.x_coord - self.start_point.x_coord == 0:\n",
    "            return None  # Slope is undefined for vertical lines\n",
    "        slope = (self.end_point.y_coord - self.start_point.y_coord) / (self.end_point.x_coord - self.start_point.x_coord)\n",
    "        return slope"
   ]
  },
  {
   "cell_type": "code",
   "execution_count": 20,
   "id": "6b4dc35f",
   "metadata": {},
   "outputs": [],
   "source": [
    "# Test the implementation\n",
    "start = Point(3, 4)\n",
    "end = Point()  # Default Point() is (0, 0) as per the implementation\n",
    "segment = Segment(start, end)"
   ]
  },
  {
   "cell_type": "code",
   "execution_count": 32,
   "id": "0f57c893",
   "metadata": {},
   "outputs": [
    {
     "name": "stdout",
     "output_type": "stream",
     "text": [
      "Length of the segment: 5.0\n",
      "Slope of the segment: 1.3333333333333333\n"
     ]
    }
   ],
   "source": [
    "print(\"Length of the segment:\", segment.calculate_length())\n",
    "print(\"Slope of the segment:\", segment.calculate_slope())"
   ]
  },
  {
   "cell_type": "markdown",
   "id": "7e7331da",
   "metadata": {},
   "source": [
    "## Que 22)"
   ]
  },
  {
   "cell_type": "code",
   "execution_count": 39,
   "id": "b51e403b",
   "metadata": {},
   "outputs": [],
   "source": [
    "import sqlite3"
   ]
  },
  {
   "cell_type": "code",
   "execution_count": 45,
   "id": "7038e2ea",
   "metadata": {},
   "outputs": [],
   "source": [
    "# Connect to a SQLite database in memory\n",
    "conn = sqlite3.connect(':memory:')\n",
    "cursor = conn.cursor()\n",
    "\n",
    "# Create the Weather table\n",
    "cursor.execute(\"CREATE TABLE Weather (id INTEGER, recordDate DATE, temperature INTEGER)\")\n",
    "\n",
    "# Insert data into the Weather table\n",
    "weather_data = [\n",
    "    (1, '2015-01-01', 10),\n",
    "    (2, '2015-01-02', 25),\n",
    "    (3, '2015-01-03', 20),\n",
    "    (4, '2015-01-04', 30)\n",
    "]\n",
    "\n",
    "cursor.executemany(\"INSERT INTO Weather (id, recordDate, temperature) VALUES (?, ?, ?)\", weather_data)\n",
    "\n",
    "# Commit the insertions\n",
    "conn.commit()"
   ]
  },
  {
   "cell_type": "code",
   "execution_count": 46,
   "id": "4a8e27f8",
   "metadata": {},
   "outputs": [
    {
     "name": "stdout",
     "output_type": "stream",
     "text": [
      "(2,)\n",
      "(4,)\n"
     ]
    }
   ],
   "source": [
    "# SQL query to find all dates with higher temperatures compared to its previous dates\n",
    "sql_query = \\\n",
    "'''\n",
    "SELECT A.id\n",
    "FROM Weather A\n",
    "JOIN Weather B ON A.recordDate = date(B.recordDate, '+1 day')\n",
    "WHERE A.temperature > B.temperature;\n",
    "'''\n",
    "\n",
    "# Execute the SQL query\n",
    "cursor.execute(sql_query)\n",
    "\n",
    "# Fetch and display the results\n",
    "results = cursor.fetchall()\n",
    "for result in results:\n",
    "    print(result)\n",
    "\n",
    "# Close the database connection\n",
    "conn.close()"
   ]
  },
  {
   "cell_type": "markdown",
   "id": "c3e3e751",
   "metadata": {},
   "source": [
    "## Que 23)\n",
    "#### Develop a recursive function tough() that takes two nonnegative integer arguments and outputs a pattern as shown below. "
   ]
  },
  {
   "cell_type": "code",
   "execution_count": 22,
   "id": "992e272d",
   "metadata": {},
   "outputs": [],
   "source": [
    "def tough(indent, num):\n",
    "    \n",
    "    if num == 0:\n",
    "        return\n",
    "    else:\n",
    "        # Print all the spaces for indentation\n",
    "        print(\" \" * indent, end=\"\")\n",
    "\n",
    "        for i in range(num):\n",
    "            print(\"*\", end=\" \")\n",
    "        print()  \n",
    "\n",
    "        # Recursive call to print the next part of the pattern \n",
    "        tough(indent + 1, num - 1)\n",
    "\n",
    "        \n",
    "        print(\" \" * indent, end=\"\")\n",
    "        \n",
    "        for i in range(num):\n",
    "            print(\"*\", end=\" \")\n",
    "        print()  "
   ]
  },
  {
   "cell_type": "code",
   "execution_count": 31,
   "id": "806b5fe3",
   "metadata": {},
   "outputs": [
    {
     "name": "stdout",
     "output_type": "stream",
     "text": [
      "Test with (0, 0):\n"
     ]
    }
   ],
   "source": [
    "# print the patterns\n",
    "print(\"Test with (0, 0):\")\n",
    "tough(0, 0)"
   ]
  },
  {
   "cell_type": "code",
   "execution_count": 30,
   "id": "203b505b",
   "metadata": {},
   "outputs": [
    {
     "name": "stdout",
     "output_type": "stream",
     "text": [
      "\n",
      "Test with (0, 1):\n",
      "* \n",
      "* \n"
     ]
    }
   ],
   "source": [
    "print(\"\\nTest with (0, 1):\")\n",
    "tough(0, 1)"
   ]
  },
  {
   "cell_type": "code",
   "execution_count": 29,
   "id": "35f6aa59",
   "metadata": {},
   "outputs": [
    {
     "name": "stdout",
     "output_type": "stream",
     "text": [
      "\n",
      "Test with (0, 2):\n",
      "* * \n",
      " * \n",
      " * \n",
      "* * \n"
     ]
    }
   ],
   "source": [
    "print(\"\\nTest with (0, 2):\")\n",
    "tough(0, 2)"
   ]
  },
  {
   "cell_type": "code",
   "execution_count": 28,
   "id": "a90620b2",
   "metadata": {},
   "outputs": [
    {
     "name": "stdout",
     "output_type": "stream",
     "text": [
      "\n",
      "Test with (0, 4):\n",
      "* * * * \n",
      " * * * \n",
      "  * * \n",
      "   * \n",
      "   * \n",
      "  * * \n",
      " * * * \n",
      "* * * * \n"
     ]
    }
   ],
   "source": [
    "print(\"\\nTest with (0, 4):\")\n",
    "tough(0, 4)"
   ]
  },
  {
   "cell_type": "code",
   "execution_count": null,
   "id": "1da4feff",
   "metadata": {},
   "outputs": [],
   "source": []
  }
 ],
 "metadata": {
  "kernelspec": {
   "display_name": "Python 3 (ipykernel)",
   "language": "python",
   "name": "python3"
  },
  "language_info": {
   "codemirror_mode": {
    "name": "ipython",
    "version": 3
   },
   "file_extension": ".py",
   "mimetype": "text/x-python",
   "name": "python",
   "nbconvert_exporter": "python",
   "pygments_lexer": "ipython3",
   "version": "3.10.9"
  }
 },
 "nbformat": 4,
 "nbformat_minor": 5
}
